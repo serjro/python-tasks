{
 "cells": [
  {
   "cell_type": "markdown",
   "id": "daff841c",
   "metadata": {},
   "source": [
    "1. Напишите программу, которая принимает на вход цифру, обозначающую день недели, и проверяет, является ли этот день выходным.\n",
    "\n",
    "Пример:\n",
    "\n",
    "- 6 -> да\n",
    "- 7 -> да\n",
    "- 1 -> нет\n"
   ]
  },
  {
   "cell_type": "code",
   "execution_count": 141,
   "id": "16da0a64",
   "metadata": {},
   "outputs": [
    {
     "name": "stdout",
     "output_type": "stream",
     "text": [
      "день: 4\n",
      "выходной: нет\n"
     ]
    }
   ],
   "source": [
    "print('выходной:','да' if int(input('день: '))>5 else 'нет')"
   ]
  },
  {
   "cell_type": "markdown",
   "id": "55df09ce",
   "metadata": {},
   "source": [
    "2. Напишите программу для. проверки истинности утверждения ¬(X ⋁ Y ⋁ Z) = ¬X ⋀ ¬Y ⋀ ¬Z для всех значений предикат."
   ]
  },
  {
   "cell_type": "code",
   "execution_count": 79,
   "id": "0d559b19",
   "metadata": {},
   "outputs": [
    {
     "name": "stdout",
     "output_type": "stream",
     "text": [
      "[0, 0, 0]:True\n",
      "[0, 0, 1]:True\n",
      "[0, 1, 0]:True\n",
      "[0, 1, 1]:True\n",
      "[1, 0, 0]:True\n",
      "[1, 0, 1]:True\n",
      "[1, 1, 0]:True\n",
      "[1, 1, 1]:True\n"
     ]
    }
   ],
   "source": [
    "a= lambda x,y,z: (not (x or y or z)) == ((not x) and (not y) and (not z))\n",
    "[print(str([x,y,z])+':'+str(a(x,y,z))) for x in [0,1] for y in [0,1] for z in [0,1]].clear()"
   ]
  },
  {
   "cell_type": "markdown",
   "id": "f6ac012e",
   "metadata": {},
   "source": [
    "3. Напишите программу, которая принимает на вход координаты точки (X и Y), причём X ≠ 0 и Y ≠ 0 и выдаёт номер четверти плоскости, в которой находится эта точка (или на какой оси она находится).\n",
    "\n",
    "Пример:\n",
    "\n",
    "- x=34; y=-30 -> 4\n",
    "- x=2; y=4-> 1\n",
    "- x=-34; y=-30 -> 3\n"
   ]
  },
  {
   "cell_type": "code",
   "execution_count": 143,
   "id": "2b1c8d4e",
   "metadata": {},
   "outputs": [
    {
     "name": "stdout",
     "output_type": "stream",
     "text": [
      "x: 1\n",
      "y: -5\n",
      "четверть: 4\n"
     ]
    }
   ],
   "source": [
    "print('четверть:',[[1, 1],[0, 1],[0, 0],[1, 0]].index((lambda x,y: [1 if x>0 else 0, 1 if y>0 else 0])(*[[int(i) for i in input(str(z)+': ').split()][0] for z in 'xy']))+1)"
   ]
  },
  {
   "cell_type": "markdown",
   "id": "f9843f0a",
   "metadata": {},
   "source": [
    "4. Напишите программу, которая по заданному номеру четверти, показывает диапазон возможных координат точек в этой четверти (x и y)."
   ]
  },
  {
   "cell_type": "code",
   "execution_count": 165,
   "id": "8bf318a8",
   "metadata": {},
   "outputs": [
    {
     "name": "stdout",
     "output_type": "stream",
     "text": [
      "четв: 2\n",
      "диапазон: ['-∞', '+∞']\n"
     ]
    }
   ],
   "source": [
    "print('диапазон:',[['+∞','+∞'],['-∞','+∞'],['-∞','-∞'],['+∞','-∞']][int(input('четв: '))-1])"
   ]
  },
  {
   "cell_type": "markdown",
   "id": "19083ddb",
   "metadata": {},
   "source": [
    "5. Напишите программу, которая принимает на вход координаты двух точек и находит расстояние между ними в 2D пространстве.\n",
    "\n",
    "Пример:\n",
    "\n",
    "- A (3,6); B (2,1) -> 5,09\n",
    "- A (7,-5); B (1,-1) -> 7,21\n"
   ]
  },
  {
   "cell_type": "code",
   "execution_count": 173,
   "id": "cf2b641b",
   "metadata": {},
   "outputs": [
    {
     "name": "stdout",
     "output_type": "stream",
     "text": [
      "Точка 1\n",
      "x1=1\n",
      "y1=2\n",
      "Точка 2\n",
      "x2=4\n",
      "y2=8\n",
      "dist= 6.708203932499369\n"
     ]
    }
   ],
   "source": [
    "import math\n",
    "x1=int(input('Точка 1\\nx1='))\n",
    "y1=int(input('y1='))\n",
    "x2=int(input('Точка 2\\nx2='))\n",
    "y2=int(input('y2='))\n",
    "print('dist=',math.sqrt( (x2 - x1)**2 + (y2 - y1)**2 ) )"
   ]
  }
 ],
 "metadata": {
  "kernelspec": {
   "display_name": "Python 3 (ipykernel)",
   "language": "python",
   "name": "python3"
  },
  "language_info": {
   "codemirror_mode": {
    "name": "ipython",
    "version": 3
   },
   "file_extension": ".py",
   "mimetype": "text/x-python",
   "name": "python",
   "nbconvert_exporter": "python",
   "pygments_lexer": "ipython3",
   "version": "3.9.10"
  },
  "toc": {
   "base_numbering": 1,
   "nav_menu": {},
   "number_sections": true,
   "sideBar": true,
   "skip_h1_title": false,
   "title_cell": "Table of Contents",
   "title_sidebar": "Contents",
   "toc_cell": false,
   "toc_position": {},
   "toc_section_display": true,
   "toc_window_display": false
  }
 },
 "nbformat": 4,
 "nbformat_minor": 5
}
