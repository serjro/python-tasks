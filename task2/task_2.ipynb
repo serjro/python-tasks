{
 "cells": [
  {
   "cell_type": "markdown",
   "id": "abf46a8d",
   "metadata": {},
   "source": [
    "1. Напишите программу, которая принимает на вход вещественное число и показывает сумму его цифр.\n",
    "\n",
    "Пример:\n",
    "\n",
    "- 6782 -> 23\n",
    "- 0,56 -> 11\n"
   ]
  },
  {
   "cell_type": "code",
   "execution_count": 20,
   "id": "7e9ee6fe",
   "metadata": {},
   "outputs": [
    {
     "name": "stdout",
     "output_type": "stream",
     "text": [
      "7.456\n"
     ]
    },
    {
     "data": {
      "text/plain": [
       "22"
      ]
     },
     "execution_count": 20,
     "metadata": {},
     "output_type": "execute_result"
    }
   ],
   "source": [
    "sum([int(x) for x in input() if x.isdigit()])"
   ]
  },
  {
   "cell_type": "markdown",
   "id": "a2e2240c",
   "metadata": {},
   "source": [
    "2. Напишите программу, которая принимает на вход число N и выдает набор произведений чисел от 1 до N.\n",
    "\n",
    "Пример:\n",
    "\n",
    "- пусть N = 4, тогда [ 1, 2, 6, 24 ] (1, 1*2, 1*2*3, 1*2*3*4)\n"
   ]
  },
  {
   "cell_type": "code",
   "execution_count": 69,
   "id": "4d9e8c81",
   "metadata": {},
   "outputs": [
    {
     "name": "stdout",
     "output_type": "stream",
     "text": [
      "N=5\n",
      "[1, 2, 6, 24, 120]\n"
     ]
    }
   ],
   "source": [
    "n=int(input('N='))\n",
    "f1=lambda a:lambda v:a(a,v)\n",
    "f2=(f1)(lambda s,x:1 if x==0 else x*s(s,x-1))\n",
    "print([f2(m+1) for m in range(n)])"
   ]
  },
  {
   "cell_type": "markdown",
   "id": "c75206eb",
   "metadata": {},
   "source": [
    "3. Задайте список из n чисел последовательности $(1+\\frac 1 n)^n$ и выведите на экран их сумму.\n",
    "\n",
    "    Пример:\n",
    "\n",
    "- Для n = 6: {1: 4, 2: 7, 3: 10, 4: 13, 5: 16, 6: 19}\n"
   ]
  },
  {
   "cell_type": "code",
   "execution_count": 70,
   "id": "46fabc8c",
   "metadata": {},
   "outputs": [
    {
     "name": "stdout",
     "output_type": "stream",
     "text": [
      "[2.0, 2.25, 2.37, 2.441, 2.488] \n",
      "Сумма: 11.549\n"
     ]
    }
   ],
   "source": [
    "n=5\n",
    "a=[round((1+1/n)**n,3) for n in range(1,n+1)]\n",
    "print(a,'\\nСумма:',sum(a))"
   ]
  },
  {
   "cell_type": "markdown",
   "id": "90ce52f0",
   "metadata": {},
   "source": [
    "4. Задайте список из N элементов, заполненных числами из промежутка [-N, N]. Найдите произведение элементов на указанных позициях. Позиции хранятся в файле file.txt в одной строке одно число."
   ]
  },
  {
   "cell_type": "code",
   "execution_count": 96,
   "id": "c74a19a9",
   "metadata": {},
   "outputs": [
    {
     "name": "stdout",
     "output_type": "stream",
     "text": [
      "Массив: -6 -5 -4 -3 -2 -1 0 1 2 3 4 5 6 \n",
      "Содержимое файла: 2 4 7 1 \n",
      "Элементы:-4 -2 1 -5 \n",
      "Произведение: -40\n"
     ]
    }
   ],
   "source": [
    "n=6\n",
    "m=1\n",
    "mas=[x for x in range(-n,n+1)]\n",
    "f = open(\"file.txt\", \"r\")\n",
    "idx = [int(x.strip()) for x in f.readlines()]\n",
    "f.close\n",
    "print('Массив:',*mas,'\\nСодержимое файла:',*idx,'\\nЭлементы:',end='')\n",
    "for el in idx:\n",
    "    m *= mas[el]\n",
    "    print(mas[el],end=' ')\n",
    "print('\\nПроизведение:',m)"
   ]
  },
  {
   "cell_type": "markdown",
   "id": "67088493",
   "metadata": {},
   "source": [
    "\n",
    "5. Реализуйте алгоритм перемешивания списка."
   ]
  },
  {
   "cell_type": "code",
   "execution_count": 112,
   "id": "c65523a7",
   "metadata": {},
   "outputs": [
    {
     "name": "stdout",
     "output_type": "stream",
     "text": [
      "Массив: [0, 1, 2, 3, 4, 5, 6, 7, 8, 9]\n",
      "Перемешивание_1: [1, 9, 0, 8, 4, 2, 5, 7, 3, 6]\n",
      "Перемешивание_2: [4, 8, 1, 0, 7, 6, 2, 3, 5, 9]\n"
     ]
    }
   ],
   "source": [
    "mas=[i for i in range(10)]\n",
    "print('Массив:',mas)\n",
    "\n",
    "# Вар.1\n",
    "import random\n",
    "mas_shaf=mas\n",
    "random.shuffle(mas_shaf)\n",
    "print('Перемешивание_1:',mas_shaf)\n",
    "\n",
    "# Вар.2\n",
    "mas_shaf=mas\n",
    "for i in range(len(mas_shaf)):\n",
    "    rnd = random.randint(0, len(mas_shaf) - 1)\n",
    "    t = mas_shaf[i]\n",
    "    mas_shaf[i] = mas_shaf[rnd]\n",
    "    mas_shaf[rnd] = t\n",
    "print('Перемешивание_2:',mas_shaf)"
   ]
  }
 ],
 "metadata": {
  "kernelspec": {
   "display_name": "Python 3 (ipykernel)",
   "language": "python",
   "name": "python3"
  },
  "language_info": {
   "codemirror_mode": {
    "name": "ipython",
    "version": 3
   },
   "file_extension": ".py",
   "mimetype": "text/x-python",
   "name": "python",
   "nbconvert_exporter": "python",
   "pygments_lexer": "ipython3",
   "version": "3.9.10"
  },
  "toc": {
   "base_numbering": 1,
   "nav_menu": {},
   "number_sections": true,
   "sideBar": true,
   "skip_h1_title": false,
   "title_cell": "Table of Contents",
   "title_sidebar": "Contents",
   "toc_cell": false,
   "toc_position": {},
   "toc_section_display": true,
   "toc_window_display": false
  }
 },
 "nbformat": 4,
 "nbformat_minor": 5
}
