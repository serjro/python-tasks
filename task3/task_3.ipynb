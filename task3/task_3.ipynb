{
 "cells": [
  {
   "cell_type": "markdown",
   "id": "be457548",
   "metadata": {},
   "source": [
    "### Задайте список из нескольких чисел. Напишите программу, которая найдёт сумму элементов списка, стоящих на нечётной позиции.\n",
    "\n",
    "    Пример:\n",
    "\n",
    "- [2, 3, 5, 9, 3] -> на нечётных позициях элементы 3 и 9, ответ: 12\n"
   ]
  },
  {
   "cell_type": "code",
   "execution_count": 38,
   "id": "5309049c",
   "metadata": {},
   "outputs": [
    {
     "name": "stdout",
     "output_type": "stream",
     "text": [
      "Массив: [1, 2, 3, 4, 5, 6, 7, 8, 9, 10] \n",
      "Сумма нечетных эл.: 25\n"
     ]
    }
   ],
   "source": [
    "mas=[i for i in range(1,11)]\n",
    "print('Массив:',mas,'\\nСумма нечетных эл.:',sum(mas[::2]))"
   ]
  },
  {
   "cell_type": "markdown",
   "id": "902c408e",
   "metadata": {},
   "source": [
    "### Напишите программу, которая найдёт произведение пар чисел списка. Парой считаем первый и последний элемент, второй и предпоследний и т.д.\n",
    " Пример:\n",
    "\n",
    "- [2, 3, 4, 5, 6] => [12, 15, 16];\n",
    "- [2, 3, 5, 6] => [12, 15]\n"
   ]
  },
  {
   "cell_type": "code",
   "execution_count": 39,
   "id": "43bd679b",
   "metadata": {},
   "outputs": [
    {
     "name": "stdout",
     "output_type": "stream",
     "text": [
      "Массив: [1, 2, 3, 4, 5, 6, 7, 8, 9, 10]\n",
      "Произведение пар: [10, 18, 24, 28, 30, 30, 28, 24, 18, 10]\n"
     ]
    }
   ],
   "source": [
    "mas=[i for i in range(1,11)]\n",
    "print('Массив:',mas)\n",
    "print('Произведение пар:',[mas[i]*mas[-i-1] for i in range(10)])"
   ]
  },
  {
   "cell_type": "markdown",
   "id": "54595646",
   "metadata": {},
   "source": [
    "### Задайте список из вещественных чисел. Напишите программу, которая найдёт разницу между максимальным и минимальным значением дробной части элементов.\n",
    "\n",
    "    Пример:\n",
    "\n",
    "- [1.1, 1.2, 3.1, 5, 10.01] => 0.19\n"
   ]
  },
  {
   "cell_type": "code",
   "execution_count": 6,
   "id": "b3780cf9",
   "metadata": {},
   "outputs": [
    {
     "name": "stdout",
     "output_type": "stream",
     "text": [
      "[4.32, 1.25, 5.24, 0.92, 9.05, 2.32, 6.71, 7.01, 9.73, 0.24] \n",
      "max: 0.92 \n",
      "min: 0.01 \n",
      "dif: 0.91\n"
     ]
    }
   ],
   "source": [
    "import random\n",
    "mas=[round(random.uniform(0,10),2) for _ in range(10)]\n",
    "part=[round(i-int(i),2) for i in mas]\n",
    "print(mas,'\\nmax:',max(part),'\\nmin:',min(part),'\\ndif:',max(part)-min(part))"
   ]
  },
  {
   "cell_type": "markdown",
   "id": "c392e8aa",
   "metadata": {},
   "source": [
    "### Напишите программу, которая будет преобразовывать десятичное число в двоичное.\n",
    "\n",
    "    Пример:\n",
    "\n",
    "- 45 -> 101101\n",
    "- 3 -> 11\n",
    "- 2 -> 10\n"
   ]
  },
  {
   "cell_type": "code",
   "execution_count": 7,
   "id": "0b62622e",
   "metadata": {},
   "outputs": [
    {
     "name": "stdout",
     "output_type": "stream",
     "text": [
      "8\n",
      "1000\n"
     ]
    }
   ],
   "source": [
    "n = int(input())\n",
    "b = ''\n",
    "while n > 0:\n",
    "    b = str(n % 2) + b\n",
    "    n = n // 2\n",
    "print(b)"
   ]
  },
  {
   "cell_type": "markdown",
   "id": "cf21dea5",
   "metadata": {},
   "source": [
    "### Задайте число. Составьте список чисел Фибоначчи, в том числе для отрицательных индексов.\n",
    "\n",
    "    Пример:\n",
    "\n",
    "- для k = 8 список будет выглядеть так: [-21 ,13, -8, 5, −3, 2, −1, 1, 0, 1, 1, 2, 3, 5, 8, 13, 21] [Негафибоначчи](https://ru.wikipedia.org/wiki/%D0%9D%D0%B5%D0%B3%D0%B0%D1%84%D0%B8%D0%B1%D0%BE%D0%BD%D0%B0%D1%87%D1%87%D0%B8#:~:text=%D0%92%20%D0%BC%D0%B0%D1%82%D0%B5%D0%BC%D0%B0%D1%82%D0%B8%D0%BA%D0%B5%2C%20%D1%87%D0%B8%D1%81%D0%BB%D0%B0%20%D0%BD%D0%B5%D0%B3%D0%B0%D1%84%D0%B8%D0%B1%D0%BE%D0%BD%D0%B0%D1%87%D1%87%D0%B8%20%E2%80%94%20%D0%BE%D1%82%D1%80%D0%B8%D1%86%D0%B0%D1%82%D0%B5%D0%BB%D1%8C%D0%BD%D0%BE%20%D0%B8%D0%BD%D0%B4%D0%B5%D0%BA%D1%81%D0%B8%D1%80%D0%BE%D0%B2%D0%B0%D0%BD%D0%BD%D1%8B%D0%B5%20%D1%8D%D0%BB%D0%B5%D0%BC%D0%B5%D0%BD%D1%82%D1%8B%20%D0%BF%D0%BE%D1%81%D0%BB%D0%B5%D0%B4%D0%BE%D0%B2%D0%B0%D1%82%D0%B5%D0%BB%D1%8C%D0%BD%D0%BE%D1%81%D1%82%D0%B8%20%D1%87%D0%B8%D1%81%D0%B5%D0%BB%20%D0%A4%D0%B8%D0%B1%D0%BE%D0%BD%D0%B0%D1%87%D1%87%D0%B8.)\n"
   ]
  },
  {
   "cell_type": "code",
   "execution_count": 6,
   "id": "767098f8",
   "metadata": {},
   "outputs": [
    {
     "name": "stdout",
     "output_type": "stream",
     "text": [
      "N=8\n",
      "[-21, 13, -8, 5, -3, 2, -1, 1, 0, 1, 1, 2, 3, 5, 8, 13, 21]\n"
     ]
    }
   ],
   "source": [
    "k=int(input('N='))\n",
    "fib=(lambda a:lambda v:a(a,v))(lambda s,x:\n",
    "        1 if x==-1 else \n",
    "        -1 if x==-2 else \n",
    "        s(s,x+2)-s(s,x+1) if x<0 else \n",
    "        s(s,x-2)+s(s,x-1) if x>0 else 0)\n",
    "print([fib(m) for m in range(-k,k+1)])"
   ]
  },
  {
   "cell_type": "code",
   "execution_count": null,
   "id": "b9e883b6",
   "metadata": {},
   "outputs": [],
   "source": []
  }
 ],
 "metadata": {
  "kernelspec": {
   "display_name": "Python 3 (ipykernel)",
   "language": "python",
   "name": "python3"
  },
  "language_info": {
   "codemirror_mode": {
    "name": "ipython",
    "version": 3
   },
   "file_extension": ".py",
   "mimetype": "text/x-python",
   "name": "python",
   "nbconvert_exporter": "python",
   "pygments_lexer": "ipython3",
   "version": "3.9.10"
  },
  "toc": {
   "base_numbering": 1,
   "nav_menu": {},
   "number_sections": true,
   "sideBar": true,
   "skip_h1_title": false,
   "title_cell": "Table of Contents",
   "title_sidebar": "Contents",
   "toc_cell": false,
   "toc_position": {},
   "toc_section_display": true,
   "toc_window_display": false
  }
 },
 "nbformat": 4,
 "nbformat_minor": 5
}
