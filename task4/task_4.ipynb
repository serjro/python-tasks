{
 "cells": [
  {
   "cell_type": "markdown",
   "id": "52218ae5",
   "metadata": {},
   "source": [
    "### Вычислить число c заданной точностью d\n",
    "\n",
    "    Пример:\n",
    "\n",
    "- при $d = 0.001, π = 3.141.$    $10^{-1} ≤ d ≤10^{-10}$\n"
   ]
  },
  {
   "cell_type": "code",
   "execution_count": 1,
   "id": "2d410b30",
   "metadata": {},
   "outputs": [
    {
     "name": "stdout",
     "output_type": "stream",
     "text": [
      "Число: 3.141592653589793\n",
      "Точность: 4\n",
      "Результат: 3.1416\n"
     ]
    }
   ],
   "source": [
    "import math\n",
    "d=.0001\n",
    "num=math.pi\n",
    "acc=len(str(d).split('.')[1])\n",
    "print(\"Число:\",num)\n",
    "print(\"Точность:\",acc)\n",
    "print(\"Результат:\",round(num,acc))"
   ]
  },
  {
   "cell_type": "markdown",
   "id": "0fca00c4",
   "metadata": {},
   "source": [
    "### Задайте натуральное число N. Напишите программу, которая составит список простых множителей числа N."
   ]
  },
  {
   "cell_type": "code",
   "execution_count": 2,
   "id": "e78fe5df",
   "metadata": {},
   "outputs": [
    {
     "name": "stdout",
     "output_type": "stream",
     "text": [
      "[2, 2, 3, 7]\n"
     ]
    }
   ],
   "source": [
    "n=84\n",
    "m=[]\n",
    "while n!=1:\n",
    "    j=2\n",
    "    while n%j!=0:\n",
    "        j+=1\n",
    "    m.append(j)\n",
    "    n=n/j\n",
    "print(m)            "
   ]
  },
  {
   "cell_type": "markdown",
   "id": "6e5d06db",
   "metadata": {},
   "source": [
    "### Задайте последовательность чисел. Напишите программу, которая выведет список неповторяющихся элементов исходной последовательности."
   ]
  },
  {
   "cell_type": "code",
   "execution_count": 3,
   "id": "28896503",
   "metadata": {},
   "outputs": [
    {
     "name": "stdout",
     "output_type": "stream",
     "text": [
      "Массив: [6, 3, 2, 8, 7, 8, 8, 3, 1, 9]\n",
      "Неповторяющиеся элементы: [6, 2, 7, 1, 9]\n"
     ]
    }
   ],
   "source": [
    "import random\n",
    "mas=[random.randint(1,9) for _ in range(10)]\n",
    "ell=[i for i in mas if mas.count(i)==1]\n",
    "print(\"Массив:\",mas)\n",
    "print(\"Неповторяющиеся элементы:\",ell)"
   ]
  },
  {
   "cell_type": "markdown",
   "id": "7a917c40",
   "metadata": {},
   "source": [
    "### Задана натуральная степень k. Сформировать случайным образом список коэффициентов (значения от 0 до 100) многочлена и записать в файл многочлен степени k.\n",
    "\n",
    "    Пример:\n",
    "\n",
    "- k=2 => 2*x² + 4*x + 5 = 0 или x² + 5 = 0 или 10*x² = 0\n"
   ]
  },
  {
   "cell_type": "code",
   "execution_count": 4,
   "id": "e0d28ddd",
   "metadata": {},
   "outputs": [
    {
     "name": "stdout",
     "output_type": "stream",
     "text": [
      "57x⁷ + 27x⁶ + 98x⁵ + 12x⁴ + 46x³ + 20x² + 13x + 72 = 0\n"
     ]
    }
   ],
   "source": [
    "import random\n",
    "indexes = {\"0\": \"\\u2070\",\n",
    "           \"1\": \"\\u00B9\",\n",
    "           \"2\": \"\\u00B2\",\n",
    "           \"3\": \"\\u00B3\",\n",
    "           \"4\": \"\\u2074\",\n",
    "           \"5\": \"\\u2075\",\n",
    "           \"6\": \"\\u2076\",\n",
    "           \"7\": \"\\u2077\",\n",
    "           \"8\": \"\\u2078\",\n",
    "           \"9\": \"\\u2079\"\n",
    "           }\n",
    "\n",
    "def degree(deg,reverse=False): # получение символов степени\n",
    "    index=indexes if not reverse else {v:k for k, v in indexes.items()} # меняем местами кл/зн в словаре при reverse\n",
    "    return \"\".join(str(index[char] or \"\") for char in str(deg)) # заменяем вх значения по словарю\n",
    "\n",
    "k=7 # степень\n",
    "members=[] # члены\n",
    "for i in range(k,-1,-1):\n",
    "    m=str(random.randint(0,100))\n",
    "    m=''if m=='0' else 'x' if  m=='1' else m+'x' # создаем коэф.\n",
    "    if m!='':\n",
    "        # создаем степень\n",
    "        members.append(m+degree(i) if i>1 else str(m) if i==1 else str(m)[:-1] if m!='x' else '1')\n",
    "s=' + '.join(members)+' = 0'\n",
    "\n",
    "f = open('files\\\\task_4-4.txt', 'w', encoding=\"utf-8\")\n",
    "f.write(s)\n",
    "f.close()\n",
    "print(s)"
   ]
  },
  {
   "cell_type": "markdown",
   "id": "47831973",
   "metadata": {},
   "source": [
    "### Даны два файла, в каждом из которых находится запись многочлена. Задача - сформировать файл, содержащий сумму многочленов."
   ]
  },
  {
   "cell_type": "code",
   "execution_count": 39,
   "id": "7c260e6c",
   "metadata": {},
   "outputs": [
    {
     "name": "stdout",
     "output_type": "stream",
     "text": [
      "Многочлен_1: 94x⁵ - 18x³ + 28x² + 23x - 2 = 0 \n",
      "Многочлен_2: 11x⁷ + 88x⁵ + 38x⁴ - 19x³ + 44x² - 10x + 38 = 0\n",
      "Сумма: 11x⁷ + 182x⁵ + 38x⁴ - 37x³ + 72x² + 13x + 36 = 0\n"
     ]
    }
   ],
   "source": [
    "from collections import Counter # перевод словаря в коллекцию, чтобы потом сложить их\n",
    "import random\n",
    "\n",
    "indexes = {\"0\": \"\\u2070\",\n",
    "           \"1\": \"\\u00B9\",\n",
    "           \"2\": \"\\u00B2\",\n",
    "           \"3\": \"\\u00B3\",\n",
    "           \"4\": \"\\u2074\",\n",
    "           \"5\": \"\\u2075\",\n",
    "           \"6\": \"\\u2076\",\n",
    "           \"7\": \"\\u2077\",\n",
    "           \"8\": \"\\u2078\",\n",
    "           \"9\": \"\\u2079\"\n",
    "           }\n",
    "\n",
    "def degree(deg,reverse=False): # получение символов степени\n",
    "    index=indexes if not reverse else {v:k for k, v in indexes.items()} # меняем местами кл/зн в словаре при reverse\n",
    "    return \"\".join(str(index[char] or \"\") for char in str(deg)) # заменяем вх значения по словарю\n",
    "\n",
    "def sub(s): # разложение строки многочлена в словарь\n",
    "    a={}\n",
    "    for i in s[:-4].split(' + '):\n",
    "        if ('x' in i):\n",
    "            a[1 if len(i.split('x')[1])==0 else int(degree(i.split('x')[1],1))]=int(i.split('x')[0])\n",
    "        else:\n",
    "            a[0]=int(i)\n",
    "    return a # получаем словарь, где ключ-степень, значение-коэф.\n",
    "\n",
    "def sum_dict(a1,a2): # суммирование словарей многочленов\n",
    "    for i in a2.keys():\n",
    "        if i in a1.keys():\n",
    "            a1[i]=a1[i]+a2[i]\n",
    "        else:\n",
    "            a1[i]=a2[i]\n",
    "    return a1\n",
    "\n",
    "# ss после загрузки из файлов. Закомментировать загрузку чтобы не создавать файлы\n",
    "# ss = ['94x⁵ + 18x³ + 28x² + 23x + 2 = 0', '11x⁷ + 88x⁵ + 38x⁴ + 19x³ + 44x² + 10x + 38 = 0']\n",
    "\n",
    "ss=[] # загружаем файлы\n",
    "for i in ['files\\\\task_4-5_f1.txt','files\\\\task_4-5_f2.txt']:\n",
    "    f = open(i, 'r', encoding=\"utf-8\")\n",
    "    ss += [f.readline()]\n",
    "    f.close()\n",
    "print('Многочлен_1:',ss[0],'\\nМногочлен_2:',ss[1])\n",
    "\n",
    "ss=[i.replace(' - ',' + -') for i in ss]\n",
    "\n",
    "#mbr = Counter(sub(ss[0])) + Counter(sub(ss[1])) Проще, но теряются отрицательные значения в словаре\n",
    "mbr = sum_dict(sub(ss[0]),sub(ss[1]))\n",
    "members=[] # члены \n",
    "for i in sorted(mbr.keys(),reverse=1): # далее собираем многочлен по ключам-i\n",
    "    m=str(mbr[i]) # создаем коэф.\n",
    "    m='' if m=='0' else 'x' if  m=='1' else '-x' if  m=='-1' else m+'x' # пропускаем 0, 1 коэф\n",
    "    if m!='': # создаем степень\n",
    "        members.append(m+degree(i) if i>1 else str(m) if i==1 else str(m)[:-1] if m!='x' else '1')# пропускаем 0,1,x в степ\n",
    "s=' + '.join(members)+' = 0'\n",
    "s=s.replace('+ -','- ') if '+ -' in s else s # доводка отриц.значений\n",
    "print('Сумма:',s)\n",
    "f = open('files\\\\task_4-5_f_res.txt', 'w', encoding=\"utf-8\")\n",
    "f.write(s)\n",
    "f.close()"
   ]
  },
  {
   "cell_type": "code",
   "execution_count": null,
   "id": "c3915dec",
   "metadata": {},
   "outputs": [],
   "source": []
  }
 ],
 "metadata": {
  "kernelspec": {
   "display_name": "Python 3 (ipykernel)",
   "language": "python",
   "name": "python3"
  },
  "language_info": {
   "codemirror_mode": {
    "name": "ipython",
    "version": 3
   },
   "file_extension": ".py",
   "mimetype": "text/x-python",
   "name": "python",
   "nbconvert_exporter": "python",
   "pygments_lexer": "ipython3",
   "version": "3.9.10"
  },
  "toc": {
   "base_numbering": 1,
   "nav_menu": {},
   "number_sections": true,
   "sideBar": true,
   "skip_h1_title": false,
   "title_cell": "Table of Contents",
   "title_sidebar": "Contents",
   "toc_cell": false,
   "toc_position": {},
   "toc_section_display": true,
   "toc_window_display": false
  }
 },
 "nbformat": 4,
 "nbformat_minor": 5
}
